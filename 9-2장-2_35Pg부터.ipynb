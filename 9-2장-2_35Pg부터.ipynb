{
 "cells": [
  {
   "cell_type": "code",
   "execution_count": 1,
   "id": "e4073779-8cdb-407e-ae37-2679a309ec3a",
   "metadata": {},
   "outputs": [],
   "source": [
    "import pandas as pd"
   ]
  },
  {
   "cell_type": "code",
   "execution_count": 2,
   "id": "0a5e640f-2b74-4598-ab4d-b7617a2d39c3",
   "metadata": {},
   "outputs": [],
   "source": [
    "from glob import glob"
   ]
  },
  {
   "cell_type": "code",
   "execution_count": 7,
   "id": "3b8697de-7b4c-4744-b642-13fcbad61b02",
   "metadata": {},
   "outputs": [
    {
     "data": {
      "text/plain": [
       "['C:/python\\\\지역_위치별(주유소)_1.xls',\n",
       " 'C:/python\\\\지역_위치별(주유소)_10.xls',\n",
       " 'C:/python\\\\지역_위치별(주유소)_11.xls',\n",
       " 'C:/python\\\\지역_위치별(주유소)_12.xls',\n",
       " 'C:/python\\\\지역_위치별(주유소)_13.xls',\n",
       " 'C:/python\\\\지역_위치별(주유소)_14.xls',\n",
       " 'C:/python\\\\지역_위치별(주유소)_15.xls',\n",
       " 'C:/python\\\\지역_위치별(주유소)_16.xls',\n",
       " 'C:/python\\\\지역_위치별(주유소)_17.xls',\n",
       " 'C:/python\\\\지역_위치별(주유소)_18.xls',\n",
       " 'C:/python\\\\지역_위치별(주유소)_19.xls',\n",
       " 'C:/python\\\\지역_위치별(주유소)_2.xls',\n",
       " 'C:/python\\\\지역_위치별(주유소)_20.xls',\n",
       " 'C:/python\\\\지역_위치별(주유소)_21.xls',\n",
       " 'C:/python\\\\지역_위치별(주유소)_22.xls',\n",
       " 'C:/python\\\\지역_위치별(주유소)_23.xls',\n",
       " 'C:/python\\\\지역_위치별(주유소)_24.xls',\n",
       " 'C:/python\\\\지역_위치별(주유소)_25.xls',\n",
       " 'C:/python\\\\지역_위치별(주유소)_3.xls',\n",
       " 'C:/python\\\\지역_위치별(주유소)_4.xls',\n",
       " 'C:/python\\\\지역_위치별(주유소)_5.xls',\n",
       " 'C:/python\\\\지역_위치별(주유소)_6.xls',\n",
       " 'C:/python\\\\지역_위치별(주유소)_7.xls',\n",
       " 'C:/python\\\\지역_위치별(주유소)_8.xls',\n",
       " 'C:/python\\\\지역_위치별(주유소)_9.xls']"
      ]
     },
     "execution_count": 7,
     "metadata": {},
     "output_type": "execute_result"
    }
   ],
   "source": [
    "stations_files = glob('C:/python/지역*.xls')\n",
    "stations_files"
   ]
  },
  {
   "cell_type": "code",
   "execution_count": 8,
   "id": "39d892e9-1fc7-4c90-a5e0-f4d15e8a4780",
   "metadata": {},
   "outputs": [],
   "source": [
    "tmp_raw = []\n",
    "for file_name in stations_files:\n",
    "    tmp = pd.read_excel(file_name, header=2)\n",
    "    tmp_raw.append(tmp)\n",
    "station_raw = pd.concat(tmp_raw)"
   ]
  },
  {
   "cell_type": "code",
   "execution_count": 9,
   "id": "4eca58f9-defb-48ee-b43f-56aea48df4e0",
   "metadata": {},
   "outputs": [
    {
     "name": "stdout",
     "output_type": "stream",
     "text": [
      "<class 'pandas.core.frame.DataFrame'>\n",
      "Index: 521 entries, 0 to 15\n",
      "Data columns (total 10 columns):\n",
      " #   Column  Non-Null Count  Dtype \n",
      "---  ------  --------------  ----- \n",
      " 0   지역      521 non-null    object\n",
      " 1   상호      521 non-null    object\n",
      " 2   주소      521 non-null    object\n",
      " 3   상표      521 non-null    object\n",
      " 4   전화번호    521 non-null    object\n",
      " 5   셀프여부    521 non-null    object\n",
      " 6   고급휘발유   521 non-null    object\n",
      " 7   휘발유     521 non-null    object\n",
      " 8   경유      521 non-null    object\n",
      " 9   실내등유    521 non-null    object\n",
      "dtypes: object(10)\n",
      "memory usage: 44.8+ KB\n"
     ]
    }
   ],
   "source": [
    "station_raw.info()"
   ]
  },
  {
   "cell_type": "code",
   "execution_count": 10,
   "id": "ee7e76cc-0e2b-418a-b859-97053b66c4ee",
   "metadata": {},
   "outputs": [
    {
     "data": {
      "text/html": [
       "<div>\n",
       "<style scoped>\n",
       "    .dataframe tbody tr th:only-of-type {\n",
       "        vertical-align: middle;\n",
       "    }\n",
       "\n",
       "    .dataframe tbody tr th {\n",
       "        vertical-align: top;\n",
       "    }\n",
       "\n",
       "    .dataframe thead th {\n",
       "        text-align: right;\n",
       "    }\n",
       "</style>\n",
       "<table border=\"1\" class=\"dataframe\">\n",
       "  <thead>\n",
       "    <tr style=\"text-align: right;\">\n",
       "      <th></th>\n",
       "      <th>지역</th>\n",
       "      <th>상호</th>\n",
       "      <th>주소</th>\n",
       "      <th>상표</th>\n",
       "      <th>전화번호</th>\n",
       "      <th>셀프여부</th>\n",
       "      <th>고급휘발유</th>\n",
       "      <th>휘발유</th>\n",
       "      <th>경유</th>\n",
       "      <th>실내등유</th>\n",
       "    </tr>\n",
       "  </thead>\n",
       "  <tbody>\n",
       "    <tr>\n",
       "      <th>0</th>\n",
       "      <td>서울특별시</td>\n",
       "      <td>(주)보성 세곡주유소</td>\n",
       "      <td>서울특별시 강남구  헌릉로 731 (세곡동)</td>\n",
       "      <td>SK에너지</td>\n",
       "      <td>02-445-6870</td>\n",
       "      <td>Y</td>\n",
       "      <td>-</td>\n",
       "      <td>1648</td>\n",
       "      <td>1429</td>\n",
       "      <td>-</td>\n",
       "    </tr>\n",
       "    <tr>\n",
       "      <th>1</th>\n",
       "      <td>서울특별시</td>\n",
       "      <td>현대오일뱅크㈜ 직영 도곡셀프주유소</td>\n",
       "      <td>서울특별시 강남구  남부순환로 2718 (도곡동)</td>\n",
       "      <td>현대오일뱅크</td>\n",
       "      <td>02-529-5101</td>\n",
       "      <td>Y</td>\n",
       "      <td>1782</td>\n",
       "      <td>1658</td>\n",
       "      <td>1458</td>\n",
       "      <td>-</td>\n",
       "    </tr>\n",
       "    <tr>\n",
       "      <th>2</th>\n",
       "      <td>서울특별시</td>\n",
       "      <td>은마주유소</td>\n",
       "      <td>서울특별시 강남구  영동대로 235 (대치동) 은마주유소</td>\n",
       "      <td>GS칼텍스</td>\n",
       "      <td>02-3452-1882</td>\n",
       "      <td>N</td>\n",
       "      <td>1809</td>\n",
       "      <td>1659</td>\n",
       "      <td>1458</td>\n",
       "      <td>-</td>\n",
       "    </tr>\n",
       "    <tr>\n",
       "      <th>3</th>\n",
       "      <td>서울특별시</td>\n",
       "      <td>(주)한진 도곡주유소</td>\n",
       "      <td>서울특별시 강남구  도곡로 162 (도곡동)</td>\n",
       "      <td>S-OIL</td>\n",
       "      <td>02-2058-3024</td>\n",
       "      <td>N</td>\n",
       "      <td>-</td>\n",
       "      <td>1660</td>\n",
       "      <td>1460</td>\n",
       "      <td>-</td>\n",
       "    </tr>\n",
       "    <tr>\n",
       "      <th>4</th>\n",
       "      <td>서울특별시</td>\n",
       "      <td>SK서광주유소</td>\n",
       "      <td>서울 강남구 역삼로 142 (역삼동)</td>\n",
       "      <td>SK에너지</td>\n",
       "      <td>02-562-4855</td>\n",
       "      <td>Y</td>\n",
       "      <td>1875</td>\n",
       "      <td>1665</td>\n",
       "      <td>1475</td>\n",
       "      <td>1050</td>\n",
       "    </tr>\n",
       "  </tbody>\n",
       "</table>\n",
       "</div>"
      ],
      "text/plain": [
       "      지역                   상호                               주소      상표  \\\n",
       "0  서울특별시          (주)보성 세곡주유소         서울특별시 강남구  헌릉로 731 (세곡동)   SK에너지   \n",
       "1  서울특별시   현대오일뱅크㈜ 직영 도곡셀프주유소      서울특별시 강남구  남부순환로 2718 (도곡동)  현대오일뱅크   \n",
       "2  서울특별시                은마주유소  서울특별시 강남구  영동대로 235 (대치동) 은마주유소   GS칼텍스   \n",
       "3  서울특별시          (주)한진 도곡주유소         서울특별시 강남구  도곡로 162 (도곡동)   S-OIL   \n",
       "4  서울특별시              SK서광주유소             서울 강남구 역삼로 142 (역삼동)   SK에너지   \n",
       "\n",
       "           전화번호 셀프여부 고급휘발유   휘발유    경유  실내등유  \n",
       "0   02-445-6870    Y     -  1648  1429     -  \n",
       "1   02-529-5101    Y  1782  1658  1458     -  \n",
       "2  02-3452-1882    N  1809  1659  1458     -  \n",
       "3  02-2058-3024    N     -  1660  1460     -  \n",
       "4   02-562-4855    Y  1875  1665  1475  1050  "
      ]
     },
     "execution_count": 10,
     "metadata": {},
     "output_type": "execute_result"
    }
   ],
   "source": [
    "station_raw.head()"
   ]
  },
  {
   "cell_type": "code",
   "execution_count": 11,
   "id": "0b1d4cf9-ef8c-429a-9180-8a38926a67d4",
   "metadata": {},
   "outputs": [
    {
     "data": {
      "text/html": [
       "<div>\n",
       "<style scoped>\n",
       "    .dataframe tbody tr th:only-of-type {\n",
       "        vertical-align: middle;\n",
       "    }\n",
       "\n",
       "    .dataframe tbody tr th {\n",
       "        vertical-align: top;\n",
       "    }\n",
       "\n",
       "    .dataframe thead th {\n",
       "        text-align: right;\n",
       "    }\n",
       "</style>\n",
       "<table border=\"1\" class=\"dataframe\">\n",
       "  <thead>\n",
       "    <tr style=\"text-align: right;\">\n",
       "      <th></th>\n",
       "      <th>Oil_store</th>\n",
       "      <th>주소</th>\n",
       "      <th>가격</th>\n",
       "      <th>셀프</th>\n",
       "      <th>상표</th>\n",
       "    </tr>\n",
       "  </thead>\n",
       "  <tbody>\n",
       "    <tr>\n",
       "      <th>0</th>\n",
       "      <td>(주)보성 세곡주유소</td>\n",
       "      <td>서울특별시 강남구  헌릉로 731 (세곡동)</td>\n",
       "      <td>1648</td>\n",
       "      <td>Y</td>\n",
       "      <td>SK에너지</td>\n",
       "    </tr>\n",
       "    <tr>\n",
       "      <th>1</th>\n",
       "      <td>현대오일뱅크㈜ 직영 도곡셀프주유소</td>\n",
       "      <td>서울특별시 강남구  남부순환로 2718 (도곡동)</td>\n",
       "      <td>1658</td>\n",
       "      <td>Y</td>\n",
       "      <td>현대오일뱅크</td>\n",
       "    </tr>\n",
       "    <tr>\n",
       "      <th>2</th>\n",
       "      <td>은마주유소</td>\n",
       "      <td>서울특별시 강남구  영동대로 235 (대치동) 은마주유소</td>\n",
       "      <td>1659</td>\n",
       "      <td>N</td>\n",
       "      <td>GS칼텍스</td>\n",
       "    </tr>\n",
       "    <tr>\n",
       "      <th>3</th>\n",
       "      <td>(주)한진 도곡주유소</td>\n",
       "      <td>서울특별시 강남구  도곡로 162 (도곡동)</td>\n",
       "      <td>1660</td>\n",
       "      <td>N</td>\n",
       "      <td>S-OIL</td>\n",
       "    </tr>\n",
       "    <tr>\n",
       "      <th>4</th>\n",
       "      <td>SK서광주유소</td>\n",
       "      <td>서울 강남구 역삼로 142 (역삼동)</td>\n",
       "      <td>1665</td>\n",
       "      <td>Y</td>\n",
       "      <td>SK에너지</td>\n",
       "    </tr>\n",
       "  </tbody>\n",
       "</table>\n",
       "</div>"
      ],
      "text/plain": [
       "             Oil_store                               주소    가격 셀프      상표\n",
       "0          (주)보성 세곡주유소         서울특별시 강남구  헌릉로 731 (세곡동)  1648  Y   SK에너지\n",
       "1   현대오일뱅크㈜ 직영 도곡셀프주유소      서울특별시 강남구  남부순환로 2718 (도곡동)  1658  Y  현대오일뱅크\n",
       "2                은마주유소  서울특별시 강남구  영동대로 235 (대치동) 은마주유소  1659  N   GS칼텍스\n",
       "3          (주)한진 도곡주유소         서울특별시 강남구  도곡로 162 (도곡동)  1660  N   S-OIL\n",
       "4              SK서광주유소             서울 강남구 역삼로 142 (역삼동)  1665  Y   SK에너지"
      ]
     },
     "execution_count": 11,
     "metadata": {},
     "output_type": "execute_result"
    }
   ],
   "source": [
    "stations = pd.DataFrame({'Oil_store' : station_raw['상호'],\n",
    "                        '주소':station_raw['주소'],\n",
    "                        '가격':station_raw['휘발유'],\n",
    "                        '셀프':station_raw['셀프여부'],\n",
    "                        '상표':station_raw['상표']})\n",
    "stations.head()"
   ]
  },
  {
   "cell_type": "code",
   "execution_count": 12,
   "id": "90bd14ad-8e20-4d16-87de-e94e0fdb657d",
   "metadata": {},
   "outputs": [
    {
     "data": {
      "text/html": [
       "<div>\n",
       "<style scoped>\n",
       "    .dataframe tbody tr th:only-of-type {\n",
       "        vertical-align: middle;\n",
       "    }\n",
       "\n",
       "    .dataframe tbody tr th {\n",
       "        vertical-align: top;\n",
       "    }\n",
       "\n",
       "    .dataframe thead th {\n",
       "        text-align: right;\n",
       "    }\n",
       "</style>\n",
       "<table border=\"1\" class=\"dataframe\">\n",
       "  <thead>\n",
       "    <tr style=\"text-align: right;\">\n",
       "      <th></th>\n",
       "      <th>Oil_store</th>\n",
       "      <th>주소</th>\n",
       "      <th>가격</th>\n",
       "      <th>셀프</th>\n",
       "      <th>상표</th>\n",
       "      <th>구</th>\n",
       "    </tr>\n",
       "  </thead>\n",
       "  <tbody>\n",
       "    <tr>\n",
       "      <th>0</th>\n",
       "      <td>(주)보성 세곡주유소</td>\n",
       "      <td>서울특별시 강남구  헌릉로 731 (세곡동)</td>\n",
       "      <td>1648</td>\n",
       "      <td>Y</td>\n",
       "      <td>SK에너지</td>\n",
       "      <td>강남구</td>\n",
       "    </tr>\n",
       "    <tr>\n",
       "      <th>1</th>\n",
       "      <td>현대오일뱅크㈜ 직영 도곡셀프주유소</td>\n",
       "      <td>서울특별시 강남구  남부순환로 2718 (도곡동)</td>\n",
       "      <td>1658</td>\n",
       "      <td>Y</td>\n",
       "      <td>현대오일뱅크</td>\n",
       "      <td>강남구</td>\n",
       "    </tr>\n",
       "    <tr>\n",
       "      <th>2</th>\n",
       "      <td>은마주유소</td>\n",
       "      <td>서울특별시 강남구  영동대로 235 (대치동) 은마주유소</td>\n",
       "      <td>1659</td>\n",
       "      <td>N</td>\n",
       "      <td>GS칼텍스</td>\n",
       "      <td>강남구</td>\n",
       "    </tr>\n",
       "    <tr>\n",
       "      <th>3</th>\n",
       "      <td>(주)한진 도곡주유소</td>\n",
       "      <td>서울특별시 강남구  도곡로 162 (도곡동)</td>\n",
       "      <td>1660</td>\n",
       "      <td>N</td>\n",
       "      <td>S-OIL</td>\n",
       "      <td>강남구</td>\n",
       "    </tr>\n",
       "    <tr>\n",
       "      <th>4</th>\n",
       "      <td>SK서광주유소</td>\n",
       "      <td>서울 강남구 역삼로 142 (역삼동)</td>\n",
       "      <td>1665</td>\n",
       "      <td>Y</td>\n",
       "      <td>SK에너지</td>\n",
       "      <td>강남구</td>\n",
       "    </tr>\n",
       "  </tbody>\n",
       "</table>\n",
       "</div>"
      ],
      "text/plain": [
       "             Oil_store                               주소    가격 셀프      상표    구\n",
       "0          (주)보성 세곡주유소         서울특별시 강남구  헌릉로 731 (세곡동)  1648  Y   SK에너지  강남구\n",
       "1   현대오일뱅크㈜ 직영 도곡셀프주유소      서울특별시 강남구  남부순환로 2718 (도곡동)  1658  Y  현대오일뱅크  강남구\n",
       "2                은마주유소  서울특별시 강남구  영동대로 235 (대치동) 은마주유소  1659  N   GS칼텍스  강남구\n",
       "3          (주)한진 도곡주유소         서울특별시 강남구  도곡로 162 (도곡동)  1660  N   S-OIL  강남구\n",
       "4              SK서광주유소             서울 강남구 역삼로 142 (역삼동)  1665  Y   SK에너지  강남구"
      ]
     },
     "execution_count": 12,
     "metadata": {},
     "output_type": "execute_result"
    }
   ],
   "source": [
    "stations['구'] = [eachAddress.split()[1] for eachAddress in stations['주소']]\n",
    "stations.head()"
   ]
  },
  {
   "cell_type": "code",
   "execution_count": 13,
   "id": "9bea77ba-9c98-4c20-aedd-243400f0b5ac",
   "metadata": {},
   "outputs": [
    {
     "data": {
      "text/plain": [
       "array(['강남구', '도봉구', '특별시', '동대문구', '동작구', '마포구', '서대문구', '서초구', '성동구',\n",
       "       '서울특별시', '성북구', '송파구', '양천구', '강동구', '영등포구', '용산구', '은평구', '종로구',\n",
       "       '중구', '중랑구', '강북구', '강서구', '관악구', '광진구', '구로구', '금천구', '노원구'],\n",
       "      dtype=object)"
      ]
     },
     "execution_count": 13,
     "metadata": {},
     "output_type": "execute_result"
    }
   ],
   "source": [
    "stations['구'].unique()"
   ]
  },
  {
   "cell_type": "code",
   "execution_count": 14,
   "id": "493ae202-40d5-40dc-a79e-86453301f2a4",
   "metadata": {},
   "outputs": [
    {
     "data": {
      "text/html": [
       "<div>\n",
       "<style scoped>\n",
       "    .dataframe tbody tr th:only-of-type {\n",
       "        vertical-align: middle;\n",
       "    }\n",
       "\n",
       "    .dataframe tbody tr th {\n",
       "        vertical-align: top;\n",
       "    }\n",
       "\n",
       "    .dataframe thead th {\n",
       "        text-align: right;\n",
       "    }\n",
       "</style>\n",
       "<table border=\"1\" class=\"dataframe\">\n",
       "  <thead>\n",
       "    <tr style=\"text-align: right;\">\n",
       "      <th></th>\n",
       "      <th>Oil_store</th>\n",
       "      <th>주소</th>\n",
       "      <th>가격</th>\n",
       "      <th>셀프</th>\n",
       "      <th>상표</th>\n",
       "      <th>구</th>\n",
       "    </tr>\n",
       "  </thead>\n",
       "  <tbody>\n",
       "    <tr>\n",
       "      <th>14</th>\n",
       "      <td>SK네트웍스(주)효진주유소</td>\n",
       "      <td>1 서울특별시 성동구 동일로 129 (성수동2가)</td>\n",
       "      <td>1797</td>\n",
       "      <td>N</td>\n",
       "      <td>SK에너지</td>\n",
       "      <td>서울특별시</td>\n",
       "    </tr>\n",
       "  </tbody>\n",
       "</table>\n",
       "</div>"
      ],
      "text/plain": [
       "         Oil_store                           주소    가격 셀프     상표      구\n",
       "14  SK네트웍스(주)효진주유소  1 서울특별시 성동구 동일로 129 (성수동2가)  1797  N  SK에너지  서울특별시"
      ]
     },
     "execution_count": 14,
     "metadata": {},
     "output_type": "execute_result"
    }
   ],
   "source": [
    "stations[stations['구']=='서울특별시']"
   ]
  },
  {
   "cell_type": "code",
   "execution_count": 15,
   "id": "6f83eb9b-ca60-4c81-bf36-47f6a2dba840",
   "metadata": {},
   "outputs": [
    {
     "data": {
      "text/plain": [
       "array(['강남구', '도봉구', '특별시', '동대문구', '동작구', '마포구', '서대문구', '서초구', '성동구',\n",
       "       '성북구', '송파구', '양천구', '강동구', '영등포구', '용산구', '은평구', '종로구', '중구',\n",
       "       '중랑구', '강북구', '강서구', '관악구', '광진구', '구로구', '금천구', '노원구'],\n",
       "      dtype=object)"
      ]
     },
     "execution_count": 15,
     "metadata": {},
     "output_type": "execute_result"
    }
   ],
   "source": [
    "stations.loc[stations['구']=='서울특별시', '구'] = '성동구'\n",
    "stations['구'].unique()"
   ]
  },
  {
   "cell_type": "code",
   "execution_count": 17,
   "id": "cb998917-c932-4057-a504-dced517801ee",
   "metadata": {},
   "outputs": [
    {
     "data": {
      "text/html": [
       "<div>\n",
       "<style scoped>\n",
       "    .dataframe tbody tr th:only-of-type {\n",
       "        vertical-align: middle;\n",
       "    }\n",
       "\n",
       "    .dataframe tbody tr th {\n",
       "        vertical-align: top;\n",
       "    }\n",
       "\n",
       "    .dataframe thead th {\n",
       "        text-align: right;\n",
       "    }\n",
       "</style>\n",
       "<table border=\"1\" class=\"dataframe\">\n",
       "  <thead>\n",
       "    <tr style=\"text-align: right;\">\n",
       "      <th></th>\n",
       "      <th>Oil_store</th>\n",
       "      <th>주소</th>\n",
       "      <th>가격</th>\n",
       "      <th>셀프</th>\n",
       "      <th>상표</th>\n",
       "      <th>구</th>\n",
       "    </tr>\n",
       "  </thead>\n",
       "  <tbody>\n",
       "    <tr>\n",
       "      <th>10</th>\n",
       "      <td>서현주유소</td>\n",
       "      <td>서울 특별시 도봉구 방학로 142 (방학동)</td>\n",
       "      <td>1614</td>\n",
       "      <td>Y</td>\n",
       "      <td>S-OIL</td>\n",
       "      <td>특별시</td>\n",
       "    </tr>\n",
       "  </tbody>\n",
       "</table>\n",
       "</div>"
      ],
      "text/plain": [
       "   Oil_store                        주소    가격 셀프     상표    구\n",
       "10     서현주유소  서울 특별시 도봉구 방학로 142 (방학동)  1614  Y  S-OIL  특별시"
      ]
     },
     "execution_count": 17,
     "metadata": {},
     "output_type": "execute_result"
    }
   ],
   "source": [
    "stations[stations['구']=='특별시']"
   ]
  },
  {
   "cell_type": "code",
   "execution_count": 18,
   "id": "3bc58357-e408-4386-99e8-6ec2298d0758",
   "metadata": {},
   "outputs": [
    {
     "data": {
      "text/plain": [
       "array(['강남구', '도봉구', '동대문구', '동작구', '마포구', '서대문구', '서초구', '성동구', '성북구',\n",
       "       '송파구', '양천구', '강동구', '영등포구', '용산구', '은평구', '종로구', '중구', '중랑구',\n",
       "       '강북구', '강서구', '관악구', '광진구', '구로구', '금천구', '노원구'], dtype=object)"
      ]
     },
     "execution_count": 18,
     "metadata": {},
     "output_type": "execute_result"
    }
   ],
   "source": [
    "stations.loc[stations['구']=='특별시', '구'] = '도봉구'\n",
    "stations['구'].unique()"
   ]
  },
  {
   "cell_type": "code",
   "execution_count": 19,
   "id": "00c62378-642c-41e4-8584-d71d84adb7ac",
   "metadata": {},
   "outputs": [
    {
     "data": {
      "text/html": [
       "<div>\n",
       "<style scoped>\n",
       "    .dataframe tbody tr th:only-of-type {\n",
       "        vertical-align: middle;\n",
       "    }\n",
       "\n",
       "    .dataframe tbody tr th {\n",
       "        vertical-align: top;\n",
       "    }\n",
       "\n",
       "    .dataframe thead th {\n",
       "        text-align: right;\n",
       "    }\n",
       "</style>\n",
       "<table border=\"1\" class=\"dataframe\">\n",
       "  <thead>\n",
       "    <tr style=\"text-align: right;\">\n",
       "      <th></th>\n",
       "      <th>Oil_store</th>\n",
       "      <th>주소</th>\n",
       "      <th>가격</th>\n",
       "      <th>셀프</th>\n",
       "      <th>상표</th>\n",
       "      <th>구</th>\n",
       "    </tr>\n",
       "  </thead>\n",
       "  <tbody>\n",
       "    <tr>\n",
       "      <th>13</th>\n",
       "      <td>서강주유소</td>\n",
       "      <td>서울 마포구 독막로 134 (창전동)</td>\n",
       "      <td>-</td>\n",
       "      <td>N</td>\n",
       "      <td>SK에너지</td>\n",
       "      <td>마포구</td>\n",
       "    </tr>\n",
       "    <tr>\n",
       "      <th>25</th>\n",
       "      <td>현대주유소</td>\n",
       "      <td>서울 양천구 남부순환로 372 (신월동)</td>\n",
       "      <td>-</td>\n",
       "      <td>Y</td>\n",
       "      <td>S-OIL</td>\n",
       "      <td>양천구</td>\n",
       "    </tr>\n",
       "    <tr>\n",
       "      <th>17</th>\n",
       "      <td>명진석유(주)동서울주유소</td>\n",
       "      <td>서울특별시 강동구  천호대로 1456 (상일동)</td>\n",
       "      <td>-</td>\n",
       "      <td>Y</td>\n",
       "      <td>GS칼텍스</td>\n",
       "      <td>강동구</td>\n",
       "    </tr>\n",
       "    <tr>\n",
       "      <th>33</th>\n",
       "      <td>하나주유소</td>\n",
       "      <td>서울특별시 영등포구  도림로 236 (신길동)</td>\n",
       "      <td>-</td>\n",
       "      <td>N</td>\n",
       "      <td>S-OIL</td>\n",
       "      <td>영등포구</td>\n",
       "    </tr>\n",
       "    <tr>\n",
       "      <th>34</th>\n",
       "      <td>대지주유소</td>\n",
       "      <td>서울 영등포구 영등포로 115 (당산동2가)</td>\n",
       "      <td>-</td>\n",
       "      <td>N</td>\n",
       "      <td>SK에너지</td>\n",
       "      <td>영등포구</td>\n",
       "    </tr>\n",
       "    <tr>\n",
       "      <th>17</th>\n",
       "      <td>유성주유소(self)</td>\n",
       "      <td>서울 중랑구 망우로 436 (망우동)</td>\n",
       "      <td>-</td>\n",
       "      <td>Y</td>\n",
       "      <td>현대오일뱅크</td>\n",
       "      <td>중랑구</td>\n",
       "    </tr>\n",
       "    <tr>\n",
       "      <th>12</th>\n",
       "      <td>새한주유소</td>\n",
       "      <td>서울특별시 강북구  도봉로 75 (미아동)</td>\n",
       "      <td>-</td>\n",
       "      <td>Y</td>\n",
       "      <td>SK에너지</td>\n",
       "      <td>강북구</td>\n",
       "    </tr>\n",
       "    <tr>\n",
       "      <th>34</th>\n",
       "      <td>하이웨이주유소</td>\n",
       "      <td>서울 강서구 공항대로 432 (화곡동)</td>\n",
       "      <td>-</td>\n",
       "      <td>N</td>\n",
       "      <td>S-OIL</td>\n",
       "      <td>강서구</td>\n",
       "    </tr>\n",
       "    <tr>\n",
       "      <th>20</th>\n",
       "      <td>삼한주유소</td>\n",
       "      <td>서울특별시 구로구 부일로 871 (온수동)</td>\n",
       "      <td>-</td>\n",
       "      <td>N</td>\n",
       "      <td>S-OIL</td>\n",
       "      <td>구로구</td>\n",
       "    </tr>\n",
       "    <tr>\n",
       "      <th>21</th>\n",
       "      <td>현대오일뱅크(주)직영신구로주유소</td>\n",
       "      <td>서울특별시 구로구  가마산로 293 (구로동)</td>\n",
       "      <td>-</td>\n",
       "      <td>N</td>\n",
       "      <td>현대오일뱅크</td>\n",
       "      <td>구로구</td>\n",
       "    </tr>\n",
       "  </tbody>\n",
       "</table>\n",
       "</div>"
      ],
      "text/plain": [
       "            Oil_store                          주소 가격 셀프      상표     구\n",
       "13              서강주유소        서울 마포구 독막로 134 (창전동)  -  N   SK에너지   마포구\n",
       "25              현대주유소      서울 양천구 남부순환로 372 (신월동)  -  Y   S-OIL   양천구\n",
       "17      명진석유(주)동서울주유소  서울특별시 강동구  천호대로 1456 (상일동)  -  Y   GS칼텍스   강동구\n",
       "33              하나주유소   서울특별시 영등포구  도림로 236 (신길동)  -  N   S-OIL  영등포구\n",
       "34              대지주유소    서울 영등포구 영등포로 115 (당산동2가)  -  N   SK에너지  영등포구\n",
       "17        유성주유소(self)        서울 중랑구 망우로 436 (망우동)  -  Y  현대오일뱅크   중랑구\n",
       "12              새한주유소     서울특별시 강북구  도봉로 75 (미아동)  -  Y   SK에너지   강북구\n",
       "34            하이웨이주유소       서울 강서구 공항대로 432 (화곡동)  -  N   S-OIL   강서구\n",
       "20              삼한주유소     서울특별시 구로구 부일로 871 (온수동)  -  N   S-OIL   구로구\n",
       "21  현대오일뱅크(주)직영신구로주유소   서울특별시 구로구  가마산로 293 (구로동)  -  N  현대오일뱅크   구로구"
      ]
     },
     "execution_count": 19,
     "metadata": {},
     "output_type": "execute_result"
    }
   ],
   "source": [
    "stations[stations['가격']=='-']"
   ]
  },
  {
   "cell_type": "code",
   "execution_count": 20,
   "id": "da2c630f-3d50-4e57-be70-b53d2748a8da",
   "metadata": {},
   "outputs": [
    {
     "data": {
      "text/html": [
       "<div>\n",
       "<style scoped>\n",
       "    .dataframe tbody tr th:only-of-type {\n",
       "        vertical-align: middle;\n",
       "    }\n",
       "\n",
       "    .dataframe tbody tr th {\n",
       "        vertical-align: top;\n",
       "    }\n",
       "\n",
       "    .dataframe thead th {\n",
       "        text-align: right;\n",
       "    }\n",
       "</style>\n",
       "<table border=\"1\" class=\"dataframe\">\n",
       "  <thead>\n",
       "    <tr style=\"text-align: right;\">\n",
       "      <th></th>\n",
       "      <th>Oil_store</th>\n",
       "      <th>주소</th>\n",
       "      <th>가격</th>\n",
       "      <th>셀프</th>\n",
       "      <th>상표</th>\n",
       "      <th>구</th>\n",
       "    </tr>\n",
       "  </thead>\n",
       "  <tbody>\n",
       "    <tr>\n",
       "      <th>0</th>\n",
       "      <td>(주)보성 세곡주유소</td>\n",
       "      <td>서울특별시 강남구  헌릉로 731 (세곡동)</td>\n",
       "      <td>1648</td>\n",
       "      <td>Y</td>\n",
       "      <td>SK에너지</td>\n",
       "      <td>강남구</td>\n",
       "    </tr>\n",
       "    <tr>\n",
       "      <th>1</th>\n",
       "      <td>현대오일뱅크㈜ 직영 도곡셀프주유소</td>\n",
       "      <td>서울특별시 강남구  남부순환로 2718 (도곡동)</td>\n",
       "      <td>1658</td>\n",
       "      <td>Y</td>\n",
       "      <td>현대오일뱅크</td>\n",
       "      <td>강남구</td>\n",
       "    </tr>\n",
       "    <tr>\n",
       "      <th>2</th>\n",
       "      <td>은마주유소</td>\n",
       "      <td>서울특별시 강남구  영동대로 235 (대치동) 은마주유소</td>\n",
       "      <td>1659</td>\n",
       "      <td>N</td>\n",
       "      <td>GS칼텍스</td>\n",
       "      <td>강남구</td>\n",
       "    </tr>\n",
       "    <tr>\n",
       "      <th>3</th>\n",
       "      <td>(주)한진 도곡주유소</td>\n",
       "      <td>서울특별시 강남구  도곡로 162 (도곡동)</td>\n",
       "      <td>1660</td>\n",
       "      <td>N</td>\n",
       "      <td>S-OIL</td>\n",
       "      <td>강남구</td>\n",
       "    </tr>\n",
       "    <tr>\n",
       "      <th>4</th>\n",
       "      <td>SK서광주유소</td>\n",
       "      <td>서울 강남구 역삼로 142 (역삼동)</td>\n",
       "      <td>1665</td>\n",
       "      <td>Y</td>\n",
       "      <td>SK에너지</td>\n",
       "      <td>강남구</td>\n",
       "    </tr>\n",
       "  </tbody>\n",
       "</table>\n",
       "</div>"
      ],
      "text/plain": [
       "             Oil_store                               주소    가격 셀프      상표    구\n",
       "0          (주)보성 세곡주유소         서울특별시 강남구  헌릉로 731 (세곡동)  1648  Y   SK에너지  강남구\n",
       "1   현대오일뱅크㈜ 직영 도곡셀프주유소      서울특별시 강남구  남부순환로 2718 (도곡동)  1658  Y  현대오일뱅크  강남구\n",
       "2                은마주유소  서울특별시 강남구  영동대로 235 (대치동) 은마주유소  1659  N   GS칼텍스  강남구\n",
       "3          (주)한진 도곡주유소         서울특별시 강남구  도곡로 162 (도곡동)  1660  N   S-OIL  강남구\n",
       "4              SK서광주유소             서울 강남구 역삼로 142 (역삼동)  1665  Y   SK에너지  강남구"
      ]
     },
     "execution_count": 20,
     "metadata": {},
     "output_type": "execute_result"
    }
   ],
   "source": [
    "stations = stations[stations['가격'] != '-']\n",
    "stations.head()"
   ]
  },
  {
   "cell_type": "code",
   "execution_count": 21,
   "id": "883a4f75-f657-4a56-8113-9a4f6b9f7b35",
   "metadata": {},
   "outputs": [],
   "source": [
    "stations['가격']=[float(value) for value in stations['가격']]"
   ]
  },
  {
   "cell_type": "code",
   "execution_count": 30,
   "id": "47637680-eb4b-4d49-bc0c-b8c419a0d23c",
   "metadata": {},
   "outputs": [],
   "source": [
    "stations.reset_index(inplace=True)\n",
    "del stations['index']"
   ]
  },
  {
   "cell_type": "code",
   "execution_count": 29,
   "id": "beebc782-59c1-4a05-8cc0-c01f5411acd8",
   "metadata": {},
   "outputs": [],
   "source": [
    "import matplotlib.pyplot as plt \n",
    "import seaborn as sns\n",
    "import platform\n",
    "from matplotlib import font_manager, rc \n",
    "plt.rcParams['axes.unicode_minus'] = False\n",
    "\n",
    "if platform.system() == 'Darwin':\n",
    "    rc('font', family='AppleGothic')\n",
    "elif platform.system() == 'Windows':\n",
    "    path = \"C:/Windows/Fonts/malgun.ttf\"\n",
    "    font_name = font_manager.FontProperties(fname=path).get_name()\n",
    "    rc('font', family=font_name)\n",
    "else:\n",
    "    print('Unknown system... sorry~')"
   ]
  },
  {
   "cell_type": "code",
   "execution_count": 23,
   "id": "9b143631-4ffe-4eeb-a77a-bdba38b3669c",
   "metadata": {},
   "outputs": [
    {
     "name": "stdout",
     "output_type": "stream",
     "text": [
      "<class 'pandas.core.frame.DataFrame'>\n",
      "RangeIndex: 511 entries, 0 to 510\n",
      "Data columns (total 6 columns):\n",
      " #   Column     Non-Null Count  Dtype  \n",
      "---  ------     --------------  -----  \n",
      " 0   Oil_store  511 non-null    object \n",
      " 1   주소         511 non-null    object \n",
      " 2   가격         511 non-null    float64\n",
      " 3   셀프         511 non-null    object \n",
      " 4   상표         511 non-null    object \n",
      " 5   구          511 non-null    object \n",
      "dtypes: float64(1), object(5)\n",
      "memory usage: 24.1+ KB\n"
     ]
    }
   ],
   "source": [
    "stations.info()"
   ]
  },
  {
   "cell_type": "code",
   "execution_count": 26,
   "id": "70b31554-b9bc-47e4-89c6-2cba33420bea",
   "metadata": {},
   "outputs": [
    {
     "data": {
      "image/png": "[encoded data removed]",
      "text/plain": [
       "<Figure size 1200x800 with 1 Axes>"
      ]
     },
     "metadata": {},
     "output_type": "display_data"
    }
   ],
   "source": [
    "stations.boxplot(column='가격', by='셀프', figsize=(12, 8))\n",
    "plt.show()"
   ]
  },
  {
   "cell_type": "code",
   "execution_count": 28,
   "id": "ce075e8b-280d-43ba-bde6-97bfa9fd3d03",
   "metadata": {},
   "outputs": [
    {
     "data": {
      "image/png": "[encoded data removed]",
      "text/plain": [
       "<Figure size 1200x800 with 1 Axes>"
      ]
     },
     "metadata": {},
     "output_type": "display_data"
    }
   ],
   "source": [
    "plt.figure(figsize=(12, 8))\n",
    "sns.boxplot(x='상표', y='가격', hue='셀프', data=stations, palette='Set3')\n",
    "plt.show()"
   ]
  },
  {
   "cell_type": "code",
   "execution_count": 32,
   "id": "f2ce9ac2-c20a-4894-9e7e-66a37b53a25e",
   "metadata": {},
   "outputs": [
    {
     "data": {
      "image/png": "[encoded data removed]",
      "text/plain": [
       "<Figure size 1200x800 with 1 Axes>"
      ]
     },
     "metadata": {},
     "output_type": "display_data"
    }
   ],
   "source": [
    "stations.boxplot(column='가격', by='셀프', figsize=(12, 8))\n",
    "plt.show()"
   ]
  },
  {
   "cell_type": "code",
   "execution_count": 34,
   "id": "5090f703-3dae-4533-924d-18f1a75fc2ff",
   "metadata": {},
   "outputs": [
    {
     "data": {
      "image/png": "[encoded data removed]",
      "text/plain": [
       "<Figure size 1200x800 with 1 Axes>"
      ]
     },
     "metadata": {},
     "output_type": "display_data"
    }
   ],
   "source": [
    "plt.figure(figsize=(12, 8))\n",
    "sns.boxplot(x='상표', y='가격', hue='셀프', data=stations, palette='Set3')\n",
    "plt.show()\n"
   ]
  },
  {
   "cell_type": "code",
   "execution_count": 36,
   "id": "cbb5f29e-6dc1-4956-be21-4a6fa7d76347",
   "metadata": {},
   "outputs": [
    {
     "data": {
      "image/png": "[encoded data removed]",
      "text/plain": [
       "<Figure size 1200x800 with 1 Axes>"
      ]
     },
     "metadata": {},
     "output_type": "display_data"
    }
   ],
   "source": [
    "import warnings\n",
    "warnings.filterwarnings(action='ignore')\n",
    "plt.figure(figsize=(12, 8))\n",
    "sns.boxplot(x='상표', y='가격', hue='셀프', data=stations, palette='Set3')\n",
    "sns.swarmplot(x='상표', y='가격', data=stations, color=\".6\")\n",
    "plt.show()"
   ]
  },
  {
   "cell_type": "code",
   "execution_count": 37,
   "id": "3408735b-9018-406c-8296-ef83a059721c",
   "metadata": {},
   "outputs": [
    {
     "data": {
      "text/html": [
       "<div>\n",
       "<style scoped>\n",
       "    .dataframe tbody tr th:only-of-type {\n",
       "        vertical-align: middle;\n",
       "    }\n",
       "\n",
       "    .dataframe tbody tr th {\n",
       "        vertical-align: top;\n",
       "    }\n",
       "\n",
       "    .dataframe thead th {\n",
       "        text-align: right;\n",
       "    }\n",
       "</style>\n",
       "<table border=\"1\" class=\"dataframe\">\n",
       "  <thead>\n",
       "    <tr style=\"text-align: right;\">\n",
       "      <th></th>\n",
       "      <th>Oil_store</th>\n",
       "      <th>주소</th>\n",
       "      <th>가격</th>\n",
       "      <th>셀프</th>\n",
       "      <th>상표</th>\n",
       "      <th>구</th>\n",
       "    </tr>\n",
       "  </thead>\n",
       "  <tbody>\n",
       "    <tr>\n",
       "      <th>362</th>\n",
       "      <td>서남주유소</td>\n",
       "      <td>서울 중구 통일로 30 (봉래동1가)</td>\n",
       "      <td>2323.0</td>\n",
       "      <td>N</td>\n",
       "      <td>SK에너지</td>\n",
       "      <td>중구</td>\n",
       "    </tr>\n",
       "    <tr>\n",
       "      <th>361</th>\n",
       "      <td>장충주유소</td>\n",
       "      <td>서울 중구 장충단로 202 (장충동1가)</td>\n",
       "      <td>2298.0</td>\n",
       "      <td>N</td>\n",
       "      <td>SK에너지</td>\n",
       "      <td>중구</td>\n",
       "    </tr>\n",
       "    <tr>\n",
       "      <th>162</th>\n",
       "      <td>양재주유소</td>\n",
       "      <td>서울 서초구 바우뫼로 178 (양재동)</td>\n",
       "      <td>2297.0</td>\n",
       "      <td>N</td>\n",
       "      <td>SK에너지</td>\n",
       "      <td>서초구</td>\n",
       "    </tr>\n",
       "    <tr>\n",
       "      <th>41</th>\n",
       "      <td>뉴서울(강남)</td>\n",
       "      <td>서울 강남구 언주로 716 (논현동)</td>\n",
       "      <td>2240.0</td>\n",
       "      <td>N</td>\n",
       "      <td>SK에너지</td>\n",
       "      <td>강남구</td>\n",
       "    </tr>\n",
       "    <tr>\n",
       "      <th>360</th>\n",
       "      <td>약수주유소</td>\n",
       "      <td>서울 중구 다산로 173 (신당동)</td>\n",
       "      <td>2186.0</td>\n",
       "      <td>N</td>\n",
       "      <td>GS칼텍스</td>\n",
       "      <td>중구</td>\n",
       "    </tr>\n",
       "    <tr>\n",
       "      <th>203</th>\n",
       "      <td>삼선주유소</td>\n",
       "      <td>서울특별시 성북구  창경궁로 324 (삼선동1가)</td>\n",
       "      <td>2185.0</td>\n",
       "      <td>N</td>\n",
       "      <td>S-OIL</td>\n",
       "      <td>성북구</td>\n",
       "    </tr>\n",
       "    <tr>\n",
       "      <th>359</th>\n",
       "      <td>필동주유소</td>\n",
       "      <td>서울특별시 중구  퇴계로 196 (필동2가)</td>\n",
       "      <td>2183.0</td>\n",
       "      <td>N</td>\n",
       "      <td>GS칼텍스</td>\n",
       "      <td>중구</td>\n",
       "    </tr>\n",
       "    <tr>\n",
       "      <th>324</th>\n",
       "      <td>한남지점</td>\n",
       "      <td>서울 용산구 한남대로21길 4 (한남동)</td>\n",
       "      <td>2168.0</td>\n",
       "      <td>N</td>\n",
       "      <td>SK에너지</td>\n",
       "      <td>용산구</td>\n",
       "    </tr>\n",
       "    <tr>\n",
       "      <th>323</th>\n",
       "      <td>에너비스</td>\n",
       "      <td>서울 용산구 한남대로21길 4 (한남동)</td>\n",
       "      <td>2168.0</td>\n",
       "      <td>N</td>\n",
       "      <td>SK에너지</td>\n",
       "      <td>용산구</td>\n",
       "    </tr>\n",
       "    <tr>\n",
       "      <th>349</th>\n",
       "      <td>(주)중앙에너비스혜화주유소</td>\n",
       "      <td>서울 종로구 창경궁로35길 1 (혜화동)</td>\n",
       "      <td>2168.0</td>\n",
       "      <td>N</td>\n",
       "      <td>SK에너지</td>\n",
       "      <td>종로구</td>\n",
       "    </tr>\n",
       "  </tbody>\n",
       "</table>\n",
       "</div>"
      ],
      "text/plain": [
       "          Oil_store                           주소      가격 셀프     상표    구\n",
       "362           서남주유소         서울 중구 통일로 30 (봉래동1가)  2323.0  N  SK에너지   중구\n",
       "361           장충주유소       서울 중구 장충단로 202 (장충동1가)  2298.0  N  SK에너지   중구\n",
       "162           양재주유소        서울 서초구 바우뫼로 178 (양재동)  2297.0  N  SK에너지  서초구\n",
       "41          뉴서울(강남)         서울 강남구 언주로 716 (논현동)  2240.0  N  SK에너지  강남구\n",
       "360           약수주유소          서울 중구 다산로 173 (신당동)  2186.0  N  GS칼텍스   중구\n",
       "203           삼선주유소  서울특별시 성북구  창경궁로 324 (삼선동1가)  2185.0  N  S-OIL  성북구\n",
       "359           필동주유소     서울특별시 중구  퇴계로 196 (필동2가)  2183.0  N  GS칼텍스   중구\n",
       "324            한남지점       서울 용산구 한남대로21길 4 (한남동)  2168.0  N  SK에너지  용산구\n",
       "323            에너비스       서울 용산구 한남대로21길 4 (한남동)  2168.0  N  SK에너지  용산구\n",
       "349  (주)중앙에너비스혜화주유소       서울 종로구 창경궁로35길 1 (혜화동)  2168.0  N  SK에너지  종로구"
      ]
     },
     "execution_count": 37,
     "metadata": {},
     "output_type": "execute_result"
    }
   ],
   "source": [
    "stations.sort_values(by='가격', ascending=False).head(10)"
   ]
  },
  {
   "cell_type": "code",
   "execution_count": 38,
   "id": "97e30b48-e5a2-48eb-b316-550047bb7f1a",
   "metadata": {},
   "outputs": [
    {
     "data": {
      "text/html": [
       "<div>\n",
       "<style scoped>\n",
       "    .dataframe tbody tr th:only-of-type {\n",
       "        vertical-align: middle;\n",
       "    }\n",
       "\n",
       "    .dataframe tbody tr th {\n",
       "        vertical-align: top;\n",
       "    }\n",
       "\n",
       "    .dataframe thead th {\n",
       "        text-align: right;\n",
       "    }\n",
       "</style>\n",
       "<table border=\"1\" class=\"dataframe\">\n",
       "  <thead>\n",
       "    <tr style=\"text-align: right;\">\n",
       "      <th></th>\n",
       "      <th>Oil_store</th>\n",
       "      <th>주소</th>\n",
       "      <th>가격</th>\n",
       "      <th>셀프</th>\n",
       "      <th>상표</th>\n",
       "      <th>구</th>\n",
       "    </tr>\n",
       "  </thead>\n",
       "  <tbody>\n",
       "    <tr>\n",
       "      <th>325</th>\n",
       "      <td>(주)명연에너지 수색훼미리주유소</td>\n",
       "      <td>서울 은평구 수색로 236 (수색동)</td>\n",
       "      <td>1567.0</td>\n",
       "      <td>Y</td>\n",
       "      <td>현대오일뱅크</td>\n",
       "      <td>은평구</td>\n",
       "    </tr>\n",
       "    <tr>\n",
       "      <th>326</th>\n",
       "      <td>타이거주유소</td>\n",
       "      <td>서울 은평구 수색로 188 (증산동)</td>\n",
       "      <td>1569.0</td>\n",
       "      <td>Y</td>\n",
       "      <td>SK에너지</td>\n",
       "      <td>은평구</td>\n",
       "    </tr>\n",
       "    <tr>\n",
       "      <th>380</th>\n",
       "      <td>북서울고속주유소</td>\n",
       "      <td>서울특별시 강북구 삼양로 410 (수유동)</td>\n",
       "      <td>1569.0</td>\n",
       "      <td>Y</td>\n",
       "      <td>S-OIL</td>\n",
       "      <td>강북구</td>\n",
       "    </tr>\n",
       "    <tr>\n",
       "      <th>381</th>\n",
       "      <td>수유동주유소</td>\n",
       "      <td>서울특별시 강북구  도봉로 395 (수유동)</td>\n",
       "      <td>1581.0</td>\n",
       "      <td>Y</td>\n",
       "      <td>GS칼텍스</td>\n",
       "      <td>강북구</td>\n",
       "    </tr>\n",
       "    <tr>\n",
       "      <th>42</th>\n",
       "      <td>쌍문주유소</td>\n",
       "      <td>서울특별시 도봉구  도봉로 547 (쌍문동)</td>\n",
       "      <td>1584.0</td>\n",
       "      <td>Y</td>\n",
       "      <td>S-OIL</td>\n",
       "      <td>도봉구</td>\n",
       "    </tr>\n",
       "    <tr>\n",
       "      <th>382</th>\n",
       "      <td>대성석유(주)신광주유소</td>\n",
       "      <td>서울 강북구 삼양로 484 (수유동)</td>\n",
       "      <td>1587.0</td>\n",
       "      <td>N</td>\n",
       "      <td>GS칼텍스</td>\n",
       "      <td>강북구</td>\n",
       "    </tr>\n",
       "    <tr>\n",
       "      <th>181</th>\n",
       "      <td>원천주유소</td>\n",
       "      <td>서울특별시 성북구  돌곶이로 142 (장위동)</td>\n",
       "      <td>1589.0</td>\n",
       "      <td>N</td>\n",
       "      <td>알뜰주유소</td>\n",
       "      <td>성북구</td>\n",
       "    </tr>\n",
       "    <tr>\n",
       "      <th>43</th>\n",
       "      <td>한이에너지(주)KLP제1주유소</td>\n",
       "      <td>서울특별시 도봉구  도봉로 596 (창동)</td>\n",
       "      <td>1592.0</td>\n",
       "      <td>N</td>\n",
       "      <td>현대오일뱅크</td>\n",
       "      <td>도봉구</td>\n",
       "    </tr>\n",
       "    <tr>\n",
       "      <th>44</th>\n",
       "      <td>도봉제일주유소(주)송만에너지</td>\n",
       "      <td>서울특별시 도봉구  도봉로 783 (도봉동)</td>\n",
       "      <td>1592.0</td>\n",
       "      <td>N</td>\n",
       "      <td>현대오일뱅크</td>\n",
       "      <td>도봉구</td>\n",
       "    </tr>\n",
       "    <tr>\n",
       "      <th>327</th>\n",
       "      <td>다회주유소</td>\n",
       "      <td>서울 은평구 증산로 441 (신사동)</td>\n",
       "      <td>1594.0</td>\n",
       "      <td>Y</td>\n",
       "      <td>S-OIL</td>\n",
       "      <td>은평구</td>\n",
       "    </tr>\n",
       "  </tbody>\n",
       "</table>\n",
       "</div>"
      ],
      "text/plain": [
       "             Oil_store                         주소      가격 셀프      상표    구\n",
       "325  (주)명연에너지 수색훼미리주유소       서울 은평구 수색로 236 (수색동)  1567.0  Y  현대오일뱅크  은평구\n",
       "326             타이거주유소       서울 은평구 수색로 188 (증산동)  1569.0  Y   SK에너지  은평구\n",
       "380           북서울고속주유소    서울특별시 강북구 삼양로 410 (수유동)  1569.0  Y   S-OIL  강북구\n",
       "381             수유동주유소   서울특별시 강북구  도봉로 395 (수유동)  1581.0  Y   GS칼텍스  강북구\n",
       "42               쌍문주유소   서울특별시 도봉구  도봉로 547 (쌍문동)  1584.0  Y   S-OIL  도봉구\n",
       "382       대성석유(주)신광주유소       서울 강북구 삼양로 484 (수유동)  1587.0  N   GS칼텍스  강북구\n",
       "181              원천주유소  서울특별시 성북구  돌곶이로 142 (장위동)  1589.0  N   알뜰주유소  성북구\n",
       "43    한이에너지(주)KLP제1주유소    서울특별시 도봉구  도봉로 596 (창동)  1592.0  N  현대오일뱅크  도봉구\n",
       "44     도봉제일주유소(주)송만에너지   서울특별시 도봉구  도봉로 783 (도봉동)  1592.0  N  현대오일뱅크  도봉구\n",
       "327              다회주유소       서울 은평구 증산로 441 (신사동)  1594.0  Y   S-OIL  은평구"
      ]
     },
     "execution_count": 38,
     "metadata": {},
     "output_type": "execute_result"
    }
   ],
   "source": [
    "stations.sort_values(by='가격', ascending=True).head(10)"
   ]
  },
  {
   "cell_type": "code",
   "execution_count": 40,
   "id": "1ffd3aa1-ad83-4941-a2a6-c4b189f11a35",
   "metadata": {},
   "outputs": [
    {
     "data": {
      "text/html": [
       "<div>\n",
       "<style scoped>\n",
       "    .dataframe tbody tr th:only-of-type {\n",
       "        vertical-align: middle;\n",
       "    }\n",
       "\n",
       "    .dataframe tbody tr th {\n",
       "        vertical-align: top;\n",
       "    }\n",
       "\n",
       "    .dataframe thead th {\n",
       "        text-align: right;\n",
       "    }\n",
       "</style>\n",
       "<table border=\"1\" class=\"dataframe\">\n",
       "  <thead>\n",
       "    <tr style=\"text-align: right;\">\n",
       "      <th></th>\n",
       "      <th>가격</th>\n",
       "    </tr>\n",
       "    <tr>\n",
       "      <th>구</th>\n",
       "      <th></th>\n",
       "    </tr>\n",
       "  </thead>\n",
       "  <tbody>\n",
       "    <tr>\n",
       "      <th>강남구</th>\n",
       "      <td>1859.500000</td>\n",
       "    </tr>\n",
       "    <tr>\n",
       "      <th>강동구</th>\n",
       "      <td>1718.352941</td>\n",
       "    </tr>\n",
       "    <tr>\n",
       "      <th>강북구</th>\n",
       "      <td>1613.500000</td>\n",
       "    </tr>\n",
       "    <tr>\n",
       "      <th>강서구</th>\n",
       "      <td>1671.441176</td>\n",
       "    </tr>\n",
       "    <tr>\n",
       "      <th>관악구</th>\n",
       "      <td>1668.500000</td>\n",
       "    </tr>\n",
       "  </tbody>\n",
       "</table>\n",
       "</div>"
      ],
      "text/plain": [
       "              가격\n",
       "구               \n",
       "강남구  1859.500000\n",
       "강동구  1718.352941\n",
       "강북구  1613.500000\n",
       "강서구  1671.441176\n",
       "관악구  1668.500000"
      ]
     },
     "execution_count": 40,
     "metadata": {},
     "output_type": "execute_result"
    }
   ],
   "source": [
    "import numpy as np\n",
    "gu_data=pd.pivot_table(stations, index=['구'], values=['가격'], aggfunc=np.mean)\n",
    "gu_data.head()"
   ]
  },
  {
   "cell_type": "code",
   "execution_count": null,
   "id": "dcd08826-5391-41f3-a9ac-885fd3bababa",
   "metadata": {},
   "outputs": [],
   "source": []
  }
 ],
 "metadata": {
  "kernelspec": {
   "display_name": "Python 3 (ipykernel)",
   "language": "python",
   "name": "python3"
  },
  "language_info": {
   "codemirror_mode": {
    "name": "ipython",
    "version": 3
   },
   "file_extension": ".py",
   "mimetype": "text/x-python",
   "name": "python",
   "nbconvert_exporter": "python",
   "pygments_lexer": "ipython3",
   "version": "3.10.11"
  }
 },
 "nbformat": 4,
 "nbformat_minor": 5
}
